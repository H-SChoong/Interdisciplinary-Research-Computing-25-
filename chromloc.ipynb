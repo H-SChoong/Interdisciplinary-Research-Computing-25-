{
 "cells": [
  {
   "cell_type": "code",
   "execution_count": 8,
   "metadata": {},
   "outputs": [
    {
     "name": "stdout",
     "output_type": "stream",
     "text": [
      "Requirement already satisfied: pysam in /usr/local/python/3.12.1/lib/python3.12/site-packages (0.23.0)\n",
      "\n",
      "\u001b[1m[\u001b[0m\u001b[34;49mnotice\u001b[0m\u001b[1;39;49m]\u001b[0m\u001b[39;49m A new release of pip is available: \u001b[0m\u001b[31;49m24.3.1\u001b[0m\u001b[39;49m -> \u001b[0m\u001b[32;49m25.0.1\u001b[0m\n",
      "\u001b[1m[\u001b[0m\u001b[34;49mnotice\u001b[0m\u001b[1;39;49m]\u001b[0m\u001b[39;49m To update, run: \u001b[0m\u001b[32;49mpython -m pip install --upgrade pip\u001b[0m\n",
      "Note: you may need to restart the kernel to use updated packages.\n"
     ]
    }
   ],
   "source": [
    "pip install pysam "
   ]
  },
  {
   "cell_type": "code",
   "execution_count": 9,
   "metadata": {},
   "outputs": [],
   "source": [
    "import pysam\n",
    "import pandas as pd"
   ]
  },
  {
   "cell_type": "code",
   "execution_count": null,
   "metadata": {},
   "outputs": [],
   "source": [
    "import .vcf as Processed_WGS\n",
    "vcf = pysam.VariantFile(Processed_WGS, \"r\") # bam = pysam.VariantFile(Processed_WGS, \"rb\") for a .bam file"
   ]
  },
  {
   "cell_type": "code",
   "execution_count": null,
   "metadata": {},
   "outputs": [],
   "source": [
    "def APOE4_identifier(vcf):\n",
    "    \"\"\"\n",
    "        Checks for the APOE4 mutation seperately from the other mutations due to how highly correlated to AD it is. \n",
    "\n",
    "    \"\"\"\n",
    "    apoe4_position = 44908684  # APOE4 SNP position on chromosome 19\n",
    "    apoe4_risk_allele = \"C\"    # Risk allele associated with Alzheimer's\n",
    "    apoe4_beta = 1.20177\n",
    "    apoe4_OR = 3.326\n",
    "\n",
    "        \n",
    "    for rec in vcf.fetch(\"19\", apoe4_position - 1, apoe4_position):\n",
    "        genotype = rec.samples.values()[0]['GT']  # Genotype for the individual\n",
    "        base_at_apoe4 = rec.ref  # The reference allele at the APOE4 position\n",
    "        alt_alleles = rec.alts  # List of alternate alleles at this position\n",
    "        \n",
    "        if apoe4_risk_allele in alt_alleles:\n",
    "            if genotype == (0, 1):  # Heterozygous for APOE4 mutation\n",
    "                print(f\"Patient is heterozygous for APOE4 risk allele {apoe4_risk_allele}\")\n",
    "            elif genotype == (1, 1):  # Homozygous for APOE4 risk allele\n",
    "                print(f\"Patient is homozygous for APOE4 risk allele {apoe4_risk_allele}\")\n",
    "            else:\n",
    "                print(\"Patient does not have APOE4 risk allele\")\n",
    "\n",
    "    vcf.close()\n",
    "\n"
   ]
  },
  {
   "cell_type": "code",
   "execution_count": null,
   "metadata": {},
   "outputs": [],
   "source": [
    "gwas_summary = pd.read_excel('cleaned_gwas.xlsx')"
   ]
  },
  {
   "cell_type": "code",
   "execution_count": null,
   "metadata": {},
   "outputs": [],
   "source": [
    "def chrom_loc(gwas_summary, vcf, PRS):\n",
    "    \"\"\"\n",
    "        Finds SNP locations in a genomic sequence, and checks wether they have the risk allele or not.\n",
    "\n",
    "\n",
    "    \"\"\"\n",
    "    PRS = 0\n",
    "    for mutation_position in gwas_summary['locations']:\n",
    "        chrom, pos = locations.split(':')\n",
    "        pos = int(pos)\n",
    "        effect_size = float(gwas_summary['beta'])\n",
    "\n",
    "        for rec in vcf.fetch(chrom, pos - 1, pos):\n",
    "            genotype = rec.samples.values()[0]['GT']  # Genotype for the individual\n",
    "            base_at_mutation = rec.ref  \n",
    "            alternative_alleles = rec.alts \n",
    "\n",
    "            if gwas_summary['risk Allele'] in alternative_alleles:\n",
    "                if genotype == (0, 1):\n",
    "                    PRS += effect_size\n",
    "                elif genotype == (1, 1):\n",
    "                    PRS += 2*effect_size\n",
    "        \n",
    "\n",
    "        print(PRS)\n",
    "\n",
    "    vcf.close()\n",
    "        \n",
    "    \n",
    "        "
   ]
  },
  {
   "cell_type": "code",
   "execution_count": 12,
   "metadata": {},
   "outputs": [],
   "source": [
    "def PRS_calc():\n",
    "    \"\"\"\n",
    "        Calculate PRS and then uses a certain threshold to determine wether teh individual is high risk. \n",
    "        Used Clumping and Threshold calulcation method, Otherwise known as PRS(C+T) method.\n",
    "        Used previous research to determine the threshold of 0.00009735 PRS.\n",
    "\n",
    "    \"\"\""
   ]
  }
 ],
 "metadata": {
  "kernelspec": {
   "display_name": "Python 3",
   "language": "python",
   "name": "python3"
  },
  "language_info": {
   "codemirror_mode": {
    "name": "ipython",
    "version": 3
   },
   "file_extension": ".py",
   "mimetype": "text/x-python",
   "name": "python",
   "nbconvert_exporter": "python",
   "pygments_lexer": "ipython3",
   "version": "3.12.1"
  }
 },
 "nbformat": 4,
 "nbformat_minor": 2
}
