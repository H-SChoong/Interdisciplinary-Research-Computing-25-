{
 "cells": [
  {
   "cell_type": "code",
   "execution_count": 8,
   "metadata": {},
   "outputs": [
    {
     "name": "stdout",
     "output_type": "stream",
     "text": [
      "Requirement already satisfied: pysam in /usr/local/python/3.12.1/lib/python3.12/site-packages (0.23.0)\n",
      "\n",
      "\u001b[1m[\u001b[0m\u001b[34;49mnotice\u001b[0m\u001b[1;39;49m]\u001b[0m\u001b[39;49m A new release of pip is available: \u001b[0m\u001b[31;49m24.3.1\u001b[0m\u001b[39;49m -> \u001b[0m\u001b[32;49m25.0.1\u001b[0m\n",
      "\u001b[1m[\u001b[0m\u001b[34;49mnotice\u001b[0m\u001b[1;39;49m]\u001b[0m\u001b[39;49m To update, run: \u001b[0m\u001b[32;49mpython -m pip install --upgrade pip\u001b[0m\n",
      "Note: you may need to restart the kernel to use updated packages.\n"
     ]
    }
   ],
   "source": [
    "pip install pysam "
   ]
  },
  {
   "cell_type": "code",
   "execution_count": 9,
   "metadata": {},
   "outputs": [],
   "source": [
    "import pysam\n",
    "import pandas as pd"
   ]
  },
  {
   "cell_type": "code",
   "execution_count": null,
   "metadata": {},
   "outputs": [],
   "source": [
    "\n",
    "vcf_file_path = '/content/drive/My Drive/Colab Notebooks/raw_variants.vcf.gz'#or insert local filepath here\n",
    "\n",
    "# Open the file using pysam or vcfpy as shown earlier\n",
    "vcf_file = pysam.VariantFile(vcf_file_path, \"r\")\n",
    " # bam = pysam.VariantFile(Processed_WGS, \"rb\") for a .bam file"
   ]
  },
  {
   "cell_type": "code",
   "execution_count": null,
   "metadata": {},
   "outputs": [],
   "source": [
    "#FOR INDEXING PURPOSES ONLY\n",
    "#pysam.tabix_index(vcf_file_path, preset=\"vcf\")\n",
    "#print(\"Indexing complete. Retrying APOE4 identifier.\")\n",
    "#vcf = pysam.VariantFile(vcf_file_path, \"r\")  # Reopen VCF file after indexing"
   ]
  },
  {
   "cell_type": "code",
   "execution_count": null,
   "metadata": {},
   "outputs": [],
   "source": [
    "def APOE4_identifier(vcf):\n",
    "    \"\"\"\n",
    "        Checks for the APOE4 mutation seperately from the other mutations due to how highly correlated to AD it is.\n",
    "        Parameters:\n",
    "        vcf_file (pysam.VariantFile): The VCF file containing genomic variants.\n",
    "\n",
    "        Returns:\n",
    "        PRS(float): The PRS contribution from APOE4 based on the risk allele count and beta coefficient.\n",
    "    \"\"\"\n",
    "    apoe4_position = 44908684  # APOE4 SNP position on chromosome 19\n",
    "    apoe4_risk_allele = \"C\"    # Risk allele associated with Alzheimer's\n",
    "    apoe4_beta = 1.20177\n",
    "    apoe4_OR = 3.326\n",
    "    print(\"Checking for APOE4 allele...\")\n",
    "    chr19 = \"chr19\"\n",
    "    PRS_dueto_Apoe4 = 0\n",
    "\n",
    "    try:\n",
    "        for record in vcf_file.fetch(chr19, apoe4_position-1, apoe4_position):\n",
    "            # Check if mutation is found at the position (you can add additional checks here)\n",
    "            print(f\"Mutation found at {chr19}:{apoe4_position}: {record}\")\n",
    "            genotype = record.samples[0]['GT']  # Extract genotype (0,1) or (1,1))\n",
    "            alleles = [record.alleles[g] for g in genotype if g is not None]\n",
    "            apoe4_allele_count = sum(1 for allele in alleles if allele == apoe4_risk_allele)\n",
    "\n",
    "                # Calculate PRS contribution\n",
    "            prs_contribution = apoe4_beta * apoe4_allele_count\n",
    "            PRS_dueto_Apoe4 += prs_contribution\n",
    "\n",
    "            print(f\"Genotype at APOE4 ({chr19}:{apoe4_position}): {alleles}\")\n",
    "            print(f\"Risk Allele Count: {apoe4_allele_count}, PRS Contribution: {PRS_dueto_Apoe4}\")\n",
    "            return  PRS_dueto_Apoe4\n",
    "\n",
    "    except ValueError as e:\n",
    "        print(f\"Error fetching data for {chr19}:{apoe4_position} - {str(e)}\")\n",
    "        return None  # Skip this contig if an error occurs\n",
    "\n",
    "        #add print outside to say no mutations in chr 19\"\n",
    "\n",
    "    #vcf.close()\n",
    "\n"
   ]
  },
  {
   "cell_type": "code",
   "execution_count": null,
   "metadata": {},
   "outputs": [],
   "source": [
    "gwas_summary = pd.read_excel('/content/drive/My Drive/Colab Notebooks/cleaned_gwas.xlsx')\n",
    "\n",
    "PRS = 0"
   ]
  },
  {
   "cell_type": "code",
   "execution_count": null,
   "metadata": {},
   "outputs": [],
   "source": [
    "#from google.colab import drive\n",
    "#drive.mount('/content/drive')"
   ]
  },
  {
   "cell_type": "code",
   "execution_count": null,
   "metadata": {},
   "outputs": [],
   "source": [
    "def chrom_loc(gwas_summary, vcf, PRS):\n",
    "    \"\"\"\n",
    "        Finds SNP locations in a genomic sequence, and checks wether they have the risk allele or not.\n",
    "        Parameters:\n",
    "        vcf_file (pysam.VariantFile): The VCF file containing genomic variants.\n",
    "        gwas_summary(Pandas Database): Contains the mutations, the chromosomal coordinates\n",
    "        PRS: Default Polygenic Risk Score (0)\n",
    "\n",
    "        Returns:\n",
    "        PRS(float): The PRS contribution from SNPs based on the risk allele count and beta coefficient.\n",
    "\n",
    "    \"\"\"\n",
    "    for index, row in gwas_summary.iterrows():  # Iterate through GWAS summary\n",
    "        chrom, pos = row['locations'].split(\":\")  # Split 'chromosome:position'\n",
    "        beta = float(row['beta'])  # Extract beta value\n",
    "        risk_allele = row['risk Allele']\n",
    "\n",
    "        # Add 'chr' prefix if not already present\n",
    "        if not chrom.startswith(\"chr\"):\n",
    "            chrom = \"chr\" + chrom\n",
    "\n",
    "        # Check if the contig exists in the VCF header\n",
    "        if chrom not in vcf_file.header.contigs:\n",
    "            print(f\"Skipping invalid contig: {chrom}\")\n",
    "            continue  # Skip this contig if it's not valid\n",
    "\n",
    "        try:\n",
    "            for record in vcf_file.fetch(chrom, int(pos)-1, int(pos)):\n",
    "                genotype = record.samples[0]['GT']  # Extract genotype tuple\n",
    "\n",
    "                # Calculate genotype risk allele count (sum of GT alleles)\n",
    "                risk_allele_count = sum(gt for gt in genotype if gt is not None)\n",
    "\n",
    "                # Calculate PRS contribution\n",
    "                prs_contribution = beta * risk_allele_count\n",
    "                PRS += prs_contribution\n",
    "\n",
    "                print(f\"Mutation at {chrom}:{pos}, Genotype: {genotype}, Risk Allele: {risk_allele}, PRS Contribution: {prs_contribution}\")\n",
    "\n",
    "        except ValueError as e:\n",
    "            print(f\"Error fetching data for {chrom}:{pos} - {str(e)}\")\n",
    "            continue  # Skip this contig if an error occurs\n",
    "\n",
    "\n",
    "    print(f\"Your Polygenic Risk Score is: {PRS}\")\n",
    "    return PRS\n",
    "\n",
    "    #vcf.close()\n",
    "\n",
    "\n"
   ]
  },
  {
   "cell_type": "code",
   "execution_count": null,
   "metadata": {},
   "outputs": [],
   "source": [
    "def chrom1_loc(gwas_summary, vcf):\n",
    "    \"\"\"\n",
    "        Added another function to check wether mutated allele = risk allele as that was missing. now PRS is less though TT\n",
    "        Finds SNP locations in a genomic sequence, and checks wether they have the risk allele or not.\n",
    "        Parameters:\n",
    "        vcf_file (pysam.VariantFile): The VCF file containing genomic variants.\n",
    "        gwas_summary(Pandas Database): Contains the mutations, the chromosomal coordinates\n",
    "        PRS: Default Polygenic Risk Score (0)\n",
    "\n",
    "        Returns:\n",
    "        PRS(float): The PRS contribution from SNPs based on the risk allele count and beta coefficient.\n",
    "\n",
    "    \"\"\"\n",
    "    PRSSS = 0  # Initialize PRS score\n",
    "\n",
    "    for index, row in gwas_summary.iterrows():  # Iterate through GWAS summary\n",
    "        chrom, pos = row['locations'].split(\":\")  # Split 'chromosome:position'\n",
    "        beta = float(row['beta'])  # Extract beta value\n",
    "        risk_allele = row['risk Allele']  # Extract risk allele from GWAS\n",
    "\n",
    "    # Add 'chr' prefix if not already present\n",
    "        if not chrom.startswith(\"chr\"):\n",
    "            chrom = \"chr\" + chrom\n",
    "\n",
    "    # Check if the contig exists in the VCF header\n",
    "        if chrom not in vcf_file.header.contigs:\n",
    "            print(f\"Skipping invalid contig: {chrom}\")\n",
    "            continue  # Skip this contig if it's not valid\n",
    "\n",
    "        try:\n",
    "            for record in vcf_file.fetch(chrom, int(pos)-1, int(pos)):  # Fetch variants at position\n",
    "                genotype = record.samples[0]['GT']  # Extract genotype (tuple of allele indices)\n",
    "                alleles = [record.alleles[g] for g in genotype if g is not None]  # Convert to allele bases\n",
    "\n",
    "            # Count only matching risk alleles\n",
    "                risk_allele_count = sum(1 for allele in alleles if risk_allele in alleles)\n",
    "\n",
    "            # Calculate PRS contribution\n",
    "                prs_contribution = beta * risk_allele_count\n",
    "                PRSSS += prs_contribution\n",
    "\n",
    "                print(f\"Mutation found at {chrom}:{pos}: Genotype={alleles}, Risk Allele={risk_allele} PRS Contribution={prs_contribution}\")\n",
    "\n",
    "        except ValueError as e:\n",
    "            print(f\"Error fetching data for {chrom}:{pos} - {str(e)}\")\n",
    "            continue  # Skip this contig if an error occurs\n",
    "\n",
    "    print(f\"Your Polygenic Risk Score is: {PRSSS}\")\n",
    "    return PRSSS\n",
    "\n",
    "\n",
    "\n",
    "\n",
    "\n"
   ]
  },
  {
   "cell_type": "code",
   "execution_count": null,
   "metadata": {},
   "outputs": [],
   "source": [
    "def PRS_calc(PRS):\n",
    "    \"\"\"\n",
    "        Calculate PRS and then uses a certain threshold to determine wether teh individual is high risk.\n",
    "        Used Clumping and Threshold calulcation method, Otherwise known as PRS(C+T) method.\n",
    "        Used previous research to determine the threshold of 0.00009735 PRS.\n",
    "        Parameters:\n",
    "        PRS: Polygenic Risk Score (Ammended by chromloc function)\n",
    "\n",
    "        Returns:\n",
    "        String: Genetic liability based on Normal Distribution documented in previous studies.\n",
    "\n",
    "\n",
    "    \"\"\"\n",
    "    if PRS < -0.268:\n",
    "      print(\"Your Polygenic Risk Score is in the first quartile! Your genetic liability for Alzheimer's is: low\")\n",
    "    if PRS > 0.1725:\n",
    "      print(\"Your Polygenic Risk Score is in the fourth quartile! Your genetic liability for Alzheimer's is: elevated\")\n",
    "    if 0.1725 > PRS > -0.268:\n",
    "      print(\"Your Polygenic Risk Score is average! Your genetic liability for Alzheimer's is: average\")\n",
    "\n"
   ]
  },
  {
   "cell_type": "code",
   "execution_count": null,
   "metadata": {},
   "outputs": [],
   "source": [
    "APOE4_identifier(vcf_file)\n",
    "\n",
    "chrom_loc(gwas_summary, vcf_file, PRS)\n",
    "\n",
    "chrom1_loc(gwas_summary, vcf_file)\n",
    "PRS_calc(PRS)"
   ]
  }
 ],
 "metadata": {
  "kernelspec": {
   "display_name": "Python 3",
   "language": "python",
   "name": "python3"
  },
  "language_info": {
   "codemirror_mode": {
    "name": "ipython",
    "version": 3
   },
   "file_extension": ".py",
   "mimetype": "text/x-python",
   "name": "python",
   "nbconvert_exporter": "python",
   "pygments_lexer": "ipython3",
   "version": "3.12.1"
  }
 },
 "nbformat": 4,
 "nbformat_minor": 2
}
